{
  "nbformat": 4,
  "nbformat_minor": 0,
  "metadata": {
    "colab": {
      "provenance": [],
      "include_colab_link": true
    },
    "kernelspec": {
      "name": "python3",
      "display_name": "Python 3"
    },
    "language_info": {
      "name": "python"
    }
  },
  "cells": [
    {
      "cell_type": "markdown",
      "metadata": {
        "id": "view-in-github",
        "colab_type": "text"
      },
      "source": [
        "<a href=\"https://colab.research.google.com/github/niarahma24/latihan/blob/main/Copy_of_Latihan_Manipulasi_String.ipynb\" target=\"_parent\"><img src=\"https://colab.research.google.com/assets/colab-badge.svg\" alt=\"Open In Colab\"/></a>"
      ]
    },
    {
      "cell_type": "markdown",
      "source": [
        "# **String**"
      ],
      "metadata": {
        "id": "oQTkVF1XUye0"
      }
    },
    {
      "cell_type": "code",
      "execution_count": null,
      "metadata": {
        "id": "04B8u1HsUUkm"
      },
      "outputs": [],
      "source": [
        "nama = 'Wahid Abdulloh'\n",
        "\n",
        "asal = \"Indonesia\""
      ]
    },
    {
      "cell_type": "markdown",
      "source": [
        "# **Escape Characters**"
      ],
      "metadata": {
        "id": "P6UNtemdU2g-"
      }
    },
    {
      "cell_type": "markdown",
      "source": [
        "Dia berkata: \"Pergilah!\"\n",
        "\n",
        "Aku menimpali: \"Apakah kau ingin aku 'angkat kaki'?!\"\n",
        "\n",
        "Atau menampilkan karakter \\(^_^ \\) (/ -_-/)"
      ],
      "metadata": {
        "id": "AoGZ3paGVDXA"
      }
    },
    {
      "cell_type": "code",
      "source": [
        "print('\"Dia berkata: \"Pergilah!\"')"
      ],
      "metadata": {
        "colab": {
          "base_uri": "https://localhost:8080/"
        },
        "id": "5zSXFYdBUskU",
        "outputId": "60c09ba5-5208-49a7-f2da-29d3c5487f82"
      },
      "execution_count": 1,
      "outputs": [
        {
          "output_type": "stream",
          "name": "stdout",
          "text": [
            "\"Dia berkata: \"Pergilah!\"\n"
          ]
        }
      ]
    },
    {
      "cell_type": "markdown",
      "source": [
        "Solusi: Mengkombinasikan tanda petik satu ('') dan tanda petik dua (\"\")"
      ],
      "metadata": {
        "id": "qRG1yM1aVW-k"
      }
    },
    {
      "cell_type": "code",
      "source": [
        "print('Dia berkata: \"Pergilah!\"')"
      ],
      "metadata": {
        "colab": {
          "base_uri": "https://localhost:8080/"
        },
        "id": "FBGYf_8kVLeV",
        "outputId": "6fc7007f-b256-4d60-8848-5592d55ec05d"
      },
      "execution_count": 2,
      "outputs": [
        {
          "output_type": "stream",
          "name": "stdout",
          "text": [
            "Dia berkata: \"Pergilah!\"\n"
          ]
        }
      ]
    },
    {
      "cell_type": "markdown",
      "source": [
        "Solusi lain: Karena di dalam string tersebut, baik tanda petik tunggal maupun tanda petik ganda sama-sama ditampilkan, maka solusinya adalah: escape string dengan backslash (\\)!"
      ],
      "metadata": {
        "id": "LpK0p1WQVrgy"
      }
    },
    {
      "cell_type": "code",
      "source": [
        "# menggunakan petik satu\n",
        "\n",
        "print('Aku menimpali: \"Apakah kau ingin aku \\'angkat kaki\\'?!\"')\n",
        "\n",
        "\n",
        "\n",
        "# menggunakan petik dua\n",
        "\n",
        "print(\"Aku menimpali: \\\"Apakah kau ingin aku 'angkat kaki'?!\\\"\")"
      ],
      "metadata": {
        "colab": {
          "base_uri": "https://localhost:8080/"
        },
        "id": "6aOCS3hgVrO1",
        "outputId": "c135f7e9-55b6-4261-b110-8584bdaf35ec"
      },
      "execution_count": 3,
      "outputs": [
        {
          "output_type": "stream",
          "name": "stdout",
          "text": [
            "Aku menimpali: \"Apakah kau ingin aku 'angkat kaki'?!\"\n",
            "Aku menimpali: \"Apakah kau ingin aku 'angkat kaki'?!\"\n"
          ]
        }
      ]
    },
    {
      "cell_type": "markdown",
      "source": [
        "Dua backslash di bawah ini akan menjadi satu saja!"
      ],
      "metadata": {
        "id": "xKOuGFr9W9km"
      }
    },
    {
      "cell_type": "code",
      "source": [
        "print('\\\\(^_^ \\) (/ -_-/)')"
      ],
      "metadata": {
        "colab": {
          "base_uri": "https://localhost:8080/"
        },
        "id": "T_hifc29V0sY",
        "outputId": "5bf9a19d-68b9-4b84-dd21-527d0dc6b0e2"
      },
      "execution_count": 4,
      "outputs": [
        {
          "output_type": "stream",
          "name": "stdout",
          "text": [
            "\\(^_^ \\) (/ -_-/)\n"
          ]
        }
      ]
    },
    {
      "cell_type": "markdown",
      "source": [
        "# **Operator in pada String**\n",
        "\n",
        "Operator keanggotan in berfungsi untuk mencari tahu apakah suatu karakter / kata terdapat pada sebuah string"
      ],
      "metadata": {
        "id": "wfdNJ7TWXGhA"
      }
    },
    {
      "cell_type": "code",
      "source": [
        "berita = \"hari ini saya sangat tidak semangat guys\"\n",
        "\n",
        "print( \"saya\" in berita) # output: True\n",
        "\n",
        "print( \"suka\" in berita) # output: False"
      ],
      "metadata": {
        "id": "E5_1WMgMXLBz",
        "colab": {
          "base_uri": "https://localhost:8080/"
        },
        "outputId": "82c632fc-02cc-466f-bc62-8ebe09c13879"
      },
      "execution_count": 15,
      "outputs": [
        {
          "output_type": "stream",
          "name": "stdout",
          "text": [
            "True\n",
            "False\n"
          ]
        }
      ]
    },
    {
      "cell_type": "markdown",
      "source": [
        "# **Memotong String**\n",
        "\n",
        "\n",
        "**Indexing String**\n",
        "\n",
        "Indeks dimulai dari 0 (ujung kiri ke kanan).\n",
        "\n",
        "Indeks negatif dimulai dari -1 yang dihitung dari karakter paling kanan ke paling kiri."
      ],
      "metadata": {
        "id": "7gExG4EDX8RD"
      }
    },
    {
      "cell_type": "code",
      "source": [
        "nama = \"bawang merah bawang putih\"\n",
        "\n",
        "print(nama[1]) # output: a\n"
      ],
      "metadata": {
        "id": "z-A3a67KYBcl",
        "colab": {
          "base_uri": "https://localhost:8080/"
        },
        "outputId": "939e11f4-0940-4dc8-eafa-99a8afd50314"
      },
      "execution_count": 29,
      "outputs": [
        {
          "output_type": "stream",
          "name": "stdout",
          "text": [
            "a\n"
          ]
        }
      ]
    },
    {
      "cell_type": "markdown",
      "source": [
        "**Slicing String**\n",
        "\n",
        "Untuk melakukan slicing atau pemotongan string, kita bisa menggunakan range of index yang diapit oleh dua kurung siku ([]) dan dipisahkan oleh tanda titik dua (:)."
      ],
      "metadata": {
        "id": "tWvWfechYXZL"
      }
    },
    {
      "cell_type": "code",
      "source": [
        "judul = 'bawang merah bawang putih'\n",
        "\n",
        "print(judul[0:6]) # output: bawang\n",
        "print(judul[:-5]) # output: bawang merah bawang putih\n",
        "\n"
      ],
      "metadata": {
        "id": "FQU9EATCYnfG",
        "colab": {
          "base_uri": "https://localhost:8080/"
        },
        "outputId": "a4b3ae34-ae94-4b55-edd6-772adbb6c9da"
      },
      "execution_count": 34,
      "outputs": [
        {
          "output_type": "stream",
          "name": "stdout",
          "text": [
            "bawang\n",
            "bawang merah bawang \n"
          ]
        }
      ]
    },
    {
      "cell_type": "markdown",
      "source": [
        "# **Menghitung Panjang String**\n",
        "\n",
        "Kita bisa menghitung panjang string dengan fungsi bawaan python len()."
      ],
      "metadata": {
        "id": "z69KpNBQap01"
      }
    },
    {
      "cell_type": "code",
      "source": [
        "print(len('bawang')) # output: 6\n",
        "print(len('putih')) # output: 5\n",
        "\n"
      ],
      "metadata": {
        "id": "TQPNFo51axgm",
        "colab": {
          "base_uri": "https://localhost:8080/"
        },
        "outputId": "2dce5982-e382-45ae-db11-ed3a6a1f23c2"
      },
      "execution_count": 35,
      "outputs": [
        {
          "output_type": "stream",
          "name": "stdout",
          "text": [
            "6\n",
            "5\n"
          ]
        }
      ]
    },
    {
      "cell_type": "markdown",
      "source": [
        "# **Memeriksa Karakter Awal String dengan string.startswith()**\n",
        "\n",
        "kita akan memeriksa apakah nomor telepon diawali ‘+62’ atau tidak.\n",
        "\n",
        "Untuk melakukannya kita bisa menggunakan fungsi startswith() yang tersedia pada objek atau tipe data string"
      ],
      "metadata": {
        "id": "xyrUXLYtbS4I"
      }
    },
    {
      "cell_type": "code",
      "source": [
        "nomor_telepon_1 = \"0872623\"\n",
        "\n",
        "nomor_telepon_2 = \"62 8625244\"\n",
        "nomor_telepon_3 = \"+62 85625292725\"\n",
        "\n",
        "kode_negara = '+62'\n",
        "\n",
        "print(nomor_telepon_1.startswith(kode_negara))\n",
        "print(nomor_telepon_2.startswith(kode_negara))\n",
        "print(nomor_telepon_3.startswith(kode_negara))"
      ],
      "metadata": {
        "id": "WbT32cd4bikb",
        "colab": {
          "base_uri": "https://localhost:8080/"
        },
        "outputId": "564308d9-8912-4062-bde2-cfb5f01e4b46"
      },
      "execution_count": 14,
      "outputs": [
        {
          "output_type": "stream",
          "name": "stdout",
          "text": [
            "False\n",
            "False\n",
            "True\n"
          ]
        }
      ]
    },
    {
      "cell_type": "markdown",
      "source": [
        "# **Memeriksa Karakter Akhir String dengan string.endswith()**\n",
        "\n",
        "Begitu pula untuk kebalikannya, kita bisa memanfaatkan fungsi endswith() yang terdapat pada objek string."
      ],
      "metadata": {
        "id": "EdeRqg26bwTq"
      }
    },
    {
      "cell_type": "code",
      "source": [
        "email_1 = \"niarahma24@gmail.com\"\n",
        "\n",
        "email_2 = \"rahmadaninia06@gmail.com\"\n",
        "\n",
        "\n",
        "print(email_1.endswith('gmail.com')) # True\n",
        "\n",
        "print(email_2.endswith('gmail.com')) # True"
      ],
      "metadata": {
        "id": "Rq4UUy0mb0n9",
        "colab": {
          "base_uri": "https://localhost:8080/"
        },
        "outputId": "769659e0-567a-448c-fee9-0d0cb5af5e3d"
      },
      "execution_count": 13,
      "outputs": [
        {
          "output_type": "stream",
          "name": "stdout",
          "text": [
            "True\n",
            "True\n"
          ]
        }
      ]
    },
    {
      "cell_type": "markdown",
      "source": [
        "# **Penggabungan String**\n",
        "\n",
        "Penggabungan string adalah teknik untuk menyusun atau mengkombinasikan beberapa string menjadi satu kesatuan. Hal ini juga biasa disebut sebagai string concatenation."
      ],
      "metadata": {
        "id": "dp6CRjG8cxqZ"
      }
    },
    {
      "cell_type": "code",
      "source": [
        "nama_depan = \"Nia\"\n",
        "\n",
        "nama_belakang = \"Rahmadani\"\n",
        "\n",
        "\n",
        "nama_lengkap = \"Nia\" + \"Rahmadani\"\n",
        "\n",
        "print(nama_lengkap)"
      ],
      "metadata": {
        "id": "v0B6CLV5c3sQ",
        "colab": {
          "base_uri": "https://localhost:8080/"
        },
        "outputId": "99682e78-b3d2-4713-a66c-c325d2f5e145"
      },
      "execution_count": 6,
      "outputs": [
        {
          "output_type": "stream",
          "name": "stdout",
          "text": [
            "NiaRahmadani\n"
          ]
        }
      ]
    },
    {
      "cell_type": "markdown",
      "source": [
        "Karena spasi merupakan sebuah karakter, untuk menghasilkan nama_lengkap yang baik, anda harus menambahkannya dengan karakter spasi"
      ],
      "metadata": {
        "id": "X4dDpyygdMLQ"
      }
    },
    {
      "cell_type": "code",
      "source": [
        "print(nama_depan + ' ' + nama_belakang)\n",
        "\n",
        "print(nama_lengkap) # output: Nia Rahmadani"
      ],
      "metadata": {
        "id": "y56bNkeqdCgs",
        "colab": {
          "base_uri": "https://localhost:8080/"
        },
        "outputId": "66906f46-8471-464f-f052-d26c97197918"
      },
      "execution_count": 12,
      "outputs": [
        {
          "output_type": "stream",
          "name": "stdout",
          "text": [
            "Nia Rahmadani\n",
            "NiaRahmadani\n"
          ]
        }
      ]
    },
    {
      "cell_type": "markdown",
      "source": [
        "**String + Non String**\n",
        "\n",
        "Ingat, bahwa anda hanya bisa menambahkan string dengan string juga. Jika anda berusaha menambahkan string dengan integer, double, atau boolean dan sebagainya, maka anda akan mendapatkan error."
      ],
      "metadata": {
        "id": "68h5DPlWdaGr"
      }
    },
    {
      "cell_type": "code",
      "source": [
        "print('Sekarang tahun: ' + str(2021))"
      ],
      "metadata": {
        "colab": {
          "base_uri": "https://localhost:8080/"
        },
        "id": "uS9useEhdeTp",
        "outputId": "7dd98b79-7619-4cb2-a5ea-623b19007b0c"
      },
      "execution_count": 10,
      "outputs": [
        {
          "output_type": "stream",
          "name": "stdout",
          "text": [
            "Sekarang tahun: 2021\n"
          ]
        }
      ]
    },
    {
      "cell_type": "markdown",
      "source": [
        "Solusinya adalah kita harus mengkonversi data integer menjadi string menggunakan fungsi str():"
      ],
      "metadata": {
        "id": "We5pkWxgdomf"
      }
    },
    {
      "cell_type": "code",
      "source": [
        "print('Sekarang tahun: ' + str())"
      ],
      "metadata": {
        "id": "W9VeTdXBdrKx",
        "colab": {
          "base_uri": "https://localhost:8080/"
        },
        "outputId": "75fb0b66-7185-4cc0-d089-9251250c685e"
      },
      "execution_count": 9,
      "outputs": [
        {
          "output_type": "stream",
          "name": "stdout",
          "text": [
            "Sekarang tahun: \n"
          ]
        }
      ]
    },
    {
      "cell_type": "markdown",
      "source": [
        "# **Perkalian String**\n",
        "\n",
        "Selain melakukan string concatenation menggunakan operator tambah (+), kita juga bisa menggunakan operator kali ('*').\n",
        "\n",
        "Operator perkalian ini akan mengulang-ulang string yang dikalikan."
      ],
      "metadata": {
        "id": "XXbJqI1ed1VS"
      }
    },
    {
      "cell_type": "code",
      "source": [
        "print('---------') # output: ---------\n",
        "\n",
        "print('-' * 9) # ouput: ---------"
      ],
      "metadata": {
        "id": "hGdMHRysd3jG",
        "colab": {
          "base_uri": "https://localhost:8080/"
        },
        "outputId": "9ecda6b7-5dc9-411d-f16c-6c085dc07e0d"
      },
      "execution_count": 7,
      "outputs": [
        {
          "output_type": "stream",
          "name": "stdout",
          "text": [
            "---------\n",
            "---------\n"
          ]
        }
      ]
    }
  ]
}